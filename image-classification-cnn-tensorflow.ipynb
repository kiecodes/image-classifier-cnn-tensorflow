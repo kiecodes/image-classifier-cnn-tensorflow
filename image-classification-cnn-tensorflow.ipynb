{
  "nbformat": 4,
  "nbformat_minor": 0,
  "metadata": {
    "colab": {
      "provenance": [],
      "gpuType": "V100"
    },
    "kernelspec": {
      "name": "python3",
      "display_name": "Python 3"
    },
    "language_info": {
      "name": "python"
    },
    "accelerator": "GPU"
  },
  "cells": [
    {
      "cell_type": "code",
      "execution_count": null,
      "metadata": {
        "id": "m2Mz9BOsHR6b"
      },
      "outputs": [],
      "source": [
        "%pip install tensorflow numpy matplotlib"
      ]
    },
    {
      "cell_type": "code",
      "source": [
        "import tensorflow as tf\n",
        "from tensorflow.keras import layers, models\n",
        "import matplotlib.pyplot as plt\n",
        "import numpy as np"
      ],
      "metadata": {
        "id": "TFvf29JbH4kF"
      },
      "execution_count": null,
      "outputs": []
    },
    {
      "cell_type": "code",
      "source": [
        "(train_images, train_labels), (test_images, test_labels) = tf.keras.datasets.cifar10.load_data()\n",
        "\n",
        "train_images = train_images / 127.5 - 1\n",
        "test_images = test_images / 127.5 - 1\n",
        "\n",
        "classes = ('plane', 'car', 'bird', 'cat', 'deer', 'dog', 'frog', 'horse', 'ship', 'truck')"
      ],
      "metadata": {
        "id": "kmaKJfx-H_i-"
      },
      "execution_count": null,
      "outputs": []
    },
    {
      "cell_type": "code",
      "source": [
        "print('Number of images in the training dataset:', train_images.shape[0])\n",
        "print('Number of images in the testing dataset:', test_images.shape[0])"
      ],
      "metadata": {
        "id": "7ZSnaUpGIRr-"
      },
      "execution_count": null,
      "outputs": []
    },
    {
      "cell_type": "code",
      "source": [
        "print(f\"Shape of the images in the training dataset: {train_images[0].shape}\")"
      ],
      "metadata": {
        "id": "7sDxF-GqIdWZ"
      },
      "execution_count": null,
      "outputs": []
    },
    {
      "cell_type": "code",
      "source": [
        "fig, axes = plt.subplots(1, 10, figsize=(10, 10))\n",
        "for i in range(10):\n",
        "    image = train_images[i]\n",
        "    denormalized_image = (image + 1) / 2\n",
        "    axes[i].imshow(denormalized_image)\n",
        "    axes[i].set_title(classes[train_labels[i][0]])\n",
        "    axes[i].axis('off')"
      ],
      "metadata": {
        "id": "XMHDtNleInx5"
      },
      "execution_count": null,
      "outputs": []
    },
    {
      "cell_type": "code",
      "source": [
        "model = models.Sequential([\n",
        "    layers.Conv2D(64, (3, 3), activation='relu', input_shape=(32, 32, 3)),\n",
        "    layers.MaxPooling2D((2, 2), strides=(2, 2)),\n",
        "    layers.Conv2D(128, (3, 3), activation='relu'),\n",
        "    layers.MaxPooling2D((2, 2), strides=(2, 2)),\n",
        "    layers.Flatten(),\n",
        "    layers.Dense(120, activation='relu'),\n",
        "    layers.Dense(84, activation='relu'),\n",
        "    layers.Dense(10, activation='softmax')\n",
        "])"
      ],
      "metadata": {
        "id": "drr1qD_IJOrj"
      },
      "execution_count": null,
      "outputs": []
    },
    {
      "cell_type": "code",
      "source": [
        "model.summary()"
      ],
      "metadata": {
        "id": "nKN_8Id4JnyZ"
      },
      "execution_count": null,
      "outputs": []
    },
    {
      "cell_type": "code",
      "source": [
        "model.compile(optimizer='adam',\n",
        "              loss='sparse_categorical_crossentropy',\n",
        "              metrics=['accuracy'])\n",
        "history = model.fit(train_images, train_labels, epochs=10,\n",
        "                    validation_data=(test_images, test_labels))"
      ],
      "metadata": {
        "id": "1HDwBNsgJ4uz"
      },
      "execution_count": null,
      "outputs": []
    },
    {
      "cell_type": "code",
      "source": [
        "def view_classification(image, probabilities):\n",
        "    fig, (ax1, ax2) = plt.subplots(figsize=(6, 9), ncols=2)\n",
        "    denormalized_image = (image + 1) / 2\n",
        "    ax1.imshow(denormalized_image)\n",
        "    ax1.axis('off')\n",
        "    ax2.barh(np.arange(10), probabilities)\n",
        "    ax2.set_aspect(0.1)\n",
        "    ax2.set_yticks(np.arange(10))\n",
        "    ax2.set_yticklabels(classes)\n",
        "    ax2.set_title('Class Probability')\n",
        "    ax2.set_xlim(0, 1.1)\n",
        "    plt.tight_layout()"
      ],
      "metadata": {
        "id": "Jrq1hD3-KYIU"
      },
      "execution_count": null,
      "outputs": []
    },
    {
      "cell_type": "code",
      "source": [
        "index = 3\n",
        "image, label = test_images[index], test_labels[index]\n",
        "probabilities = model.predict(image.reshape(1, 32, 32, 3))\n",
        "view_classification(image,  probabilities[0])"
      ],
      "metadata": {
        "id": "ccVrG-L2KhNE"
      },
      "execution_count": null,
      "outputs": []
    },
    {
      "cell_type": "code",
      "source": [
        "test_loss, test_accuracy = model.evaluate(test_images, test_labels)\n",
        "print(f'Accuracy of the neural network on the {test_images.shape[0]} test images: {test_accuracy * 100:.2f}%')"
      ],
      "metadata": {
        "id": "WJU7ip5FK0wZ"
      },
      "execution_count": null,
      "outputs": []
    }
  ]
}